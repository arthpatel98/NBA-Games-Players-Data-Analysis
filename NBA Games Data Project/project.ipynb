{
 "cells": [
  {
   "cell_type": "code",
   "execution_count": 1,
   "metadata": {},
   "outputs": [],
   "source": [
    "# !pip install ipywidgets (if needed)\n",
    "# Importing necessary modules.\n",
    "import numpy as np\n",
    "import pandas as pd\n",
    "import ipywidgets as ipy\n",
    "pd.options.display.float_format = '{0:,.2f}'.format\n",
    "import matplotlib.pyplot as plt\n",
    "import seaborn as sns\n",
    "import warnings\n",
    "warnings.filterwarnings('ignore')\n",
    "\n",
    "plt.rcParams['figure.figsize'] = (18, 9)\n",
    "sns.set_style('darkgrid')\n",
    "import matplotlib.ticker as tt"
   ]
  },
  {
   "cell_type": "code",
   "execution_count": 2,
   "metadata": {},
   "outputs": [],
   "source": [
    "# Loading all files and dropped some of the unnecessary columns.\n",
    "games_data = pd.read_csv(\"games.csv\").drop(['GAME_ID','GAME_STATUS_TEXT','FG_PCT_home','FT_PCT_home','FG3_PCT_home',\n",
    "                                     'FG_PCT_away','FG3_PCT_away','FT_PCT_away','HOME_TEAM_WINS','TEAM_ID_home','TEAM_ID_away'],axis=1)\n",
    "\n",
    "games_data_homeaway = pd.read_csv(\"games.csv\").drop(['GAME_DATE_EST','GAME_ID','GAME_STATUS_TEXT','HOME_TEAM_WINS','TEAM_ID_home','TEAM_ID_away'],axis=1)\n",
    "\n",
    "players_data = pd.read_csv(\"players.csv\")\n",
    "\n",
    "players_bios = pd.read_csv(\"players_bios.csv\").drop(['Birth_City'],axis=1)\n",
    "\n",
    "finals_data = pd.read_excel('NBA Finals and MVP.xlsx').drop(['MVP Nationality','MVP Position','MVP Height (m)','Final Sweep ?','Result'],axis=1)\n",
    "\n",
    "teams_info = pd.read_csv('teams_info.csv').drop(['ARENA','OWNER','GENERALMANAGER','HEADCOACH','ABBREVIATION'],axis=1)\n",
    "\n",
    "daily_points_table_first = pd.read_csv('ranking.csv').drop(['LEAGUE_ID','RETURNTOPLAY'],axis=1)\n",
    "# Here I filtered out Season_ID 22002 and 22020 because they have incomplete data.\n",
    "daily_points_table = daily_points_table_first[(daily_points_table_first['Season_ID']>22002) & (daily_points_table_first['Season_ID']!=22020)]\n",
    " \n",
    "games_details = pd.read_csv('games_details.csv').drop(['FG_PCT','FG3_PCT','FT_PCT','OREB','DREB','PLUS_MINUS'],axis=1)"
   ]
  },
  {
   "cell_type": "code",
   "execution_count": 3,
   "metadata": {},
   "outputs": [],
   "source": [
    "# LA clippers, New orleans/Oklahome City and Seattle teams have changed their names so I replaced their old teams names with new teams names.\n",
    "la_clippers = daily_points_table[daily_points_table['Team Name']=='LA Clippers']\n",
    "la_clippers['Team Name'] = 'L.A. Clippers'\n",
    "no_oklahoma = daily_points_table[daily_points_table['Team Name']=='New Orleans/Oklahoma City']\n",
    "no_oklahoma['Team Name'] = 'New Orleans'\n",
    "seattle = daily_points_table[daily_points_table['Team Name']=='Seattle']\n",
    "seattle['Team Name'] = 'Oklahoma City'\n",
    "\n",
    "combined_teams_df = la_clippers.append([no_oklahoma,seattle,daily_points_table])\n",
    "daily_points_table = combined_teams_df[(combined_teams_df['Team Name']!='LA Clippers') & (combined_teams_df['Team Name']!='New Orleans/Oklahoma City') & (combined_teams_df['Team Name']!='Seattle')]"
   ]
  },
  {
   "cell_type": "markdown",
   "metadata": {},
   "source": [
    "## Question 1 : From NBA Champions between 1947 and 2020, Find out how many times each team won NBA Championship."
   ]
  },
  {
   "cell_type": "markdown",
   "metadata": {},
   "source": [
    "#### I have merged teams_info which have information about all 30 teams and finals_data which is the NBA finals result. Then, I grouped them by 'Champion Name' column so that I could find how many times each team won NBA Championship."
   ]
  },
  {
   "cell_type": "code",
   "execution_count": 4,
   "metadata": {},
   "outputs": [
    {
     "data": {
      "text/html": [
       "<div>\n",
       "<style scoped>\n",
       "    .dataframe tbody tr th:only-of-type {\n",
       "        vertical-align: middle;\n",
       "    }\n",
       "\n",
       "    .dataframe tbody tr th {\n",
       "        vertical-align: top;\n",
       "    }\n",
       "\n",
       "    .dataframe thead th {\n",
       "        text-align: right;\n",
       "    }\n",
       "</style>\n",
       "<table border=\"1\" class=\"dataframe\">\n",
       "  <thead>\n",
       "    <tr style=\"text-align: right;\">\n",
       "      <th></th>\n",
       "      <th>No. of Championships</th>\n",
       "    </tr>\n",
       "    <tr>\n",
       "      <th>Champion Name</th>\n",
       "      <th></th>\n",
       "    </tr>\n",
       "  </thead>\n",
       "  <tbody>\n",
       "    <tr>\n",
       "      <th>Lakers</th>\n",
       "      <td>17</td>\n",
       "    </tr>\n",
       "    <tr>\n",
       "      <th>Celtics</th>\n",
       "      <td>17</td>\n",
       "    </tr>\n",
       "    <tr>\n",
       "      <th>Bulls</th>\n",
       "      <td>6</td>\n",
       "    </tr>\n",
       "    <tr>\n",
       "      <th>Warriors</th>\n",
       "      <td>6</td>\n",
       "    </tr>\n",
       "    <tr>\n",
       "      <th>Spurs</th>\n",
       "      <td>5</td>\n",
       "    </tr>\n",
       "    <tr>\n",
       "      <th>Pistons</th>\n",
       "      <td>3</td>\n",
       "    </tr>\n",
       "    <tr>\n",
       "      <th>Heat</th>\n",
       "      <td>3</td>\n",
       "    </tr>\n",
       "    <tr>\n",
       "      <th>76ers</th>\n",
       "      <td>3</td>\n",
       "    </tr>\n",
       "    <tr>\n",
       "      <th>Knicks</th>\n",
       "      <td>2</td>\n",
       "    </tr>\n",
       "    <tr>\n",
       "      <th>Rockets</th>\n",
       "      <td>2</td>\n",
       "    </tr>\n",
       "    <tr>\n",
       "      <th>Mavericks</th>\n",
       "      <td>1</td>\n",
       "    </tr>\n",
       "    <tr>\n",
       "      <th>Raptors</th>\n",
       "      <td>1</td>\n",
       "    </tr>\n",
       "    <tr>\n",
       "      <th>Kings</th>\n",
       "      <td>1</td>\n",
       "    </tr>\n",
       "    <tr>\n",
       "      <th>Hawks</th>\n",
       "      <td>1</td>\n",
       "    </tr>\n",
       "    <tr>\n",
       "      <th>Thunder</th>\n",
       "      <td>1</td>\n",
       "    </tr>\n",
       "    <tr>\n",
       "      <th>Cavaliers</th>\n",
       "      <td>1</td>\n",
       "    </tr>\n",
       "    <tr>\n",
       "      <th>Trail Blazers</th>\n",
       "      <td>1</td>\n",
       "    </tr>\n",
       "    <tr>\n",
       "      <th>Bucks</th>\n",
       "      <td>1</td>\n",
       "    </tr>\n",
       "    <tr>\n",
       "      <th>Wizards</th>\n",
       "      <td>1</td>\n",
       "    </tr>\n",
       "  </tbody>\n",
       "</table>\n",
       "</div>"
      ],
      "text/plain": [
       "               No. of Championships\n",
       "Champion Name                      \n",
       "Lakers                           17\n",
       "Celtics                          17\n",
       "Bulls                             6\n",
       "Warriors                          6\n",
       "Spurs                             5\n",
       "Pistons                           3\n",
       "Heat                              3\n",
       "76ers                             3\n",
       "Knicks                            2\n",
       "Rockets                           2\n",
       "Mavericks                         1\n",
       "Raptors                           1\n",
       "Kings                             1\n",
       "Hawks                             1\n",
       "Thunder                           1\n",
       "Cavaliers                         1\n",
       "Trail Blazers                     1\n",
       "Bucks                             1\n",
       "Wizards                           1"
      ]
     },
     "execution_count": 4,
     "metadata": {},
     "output_type": "execute_result"
    }
   ],
   "source": [
    "champions_data = finals_data.merge(teams_info,left_on='Champion Name',right_on='Team Name')[['Year','NBA Champion','Champion Name','NBA Vice-Champion','Year Founded']]\n",
    "no_of_champions = champions_data.groupby('Champion Name').count()['NBA Champion'].sort_values(ascending=False).to_frame().rename(columns={'NBA Champion':'No. of Championships'})\n",
    "no_of_champions"
   ]
  },
  {
   "cell_type": "markdown",
   "metadata": {},
   "source": [
    "## Question 2 : Which teams are still to win their first NBA Championship? By checking their foundation year, we can imagine for how long their first championship is due."
   ]
  },
  {
   "cell_type": "markdown",
   "metadata": {},
   "source": [
    "#### First I created a column named 'Years Taken to Win First NBA Championship', then I grouped champions_data by 'Champion Name' column which gave me NBA winners list. At last, I applied '~' operator which gives me list of teams which have not won single NBA title."
   ]
  },
  {
   "cell_type": "code",
   "execution_count": 5,
   "metadata": {},
   "outputs": [
    {
     "data": {
      "text/html": [
       "<div>\n",
       "<style scoped>\n",
       "    .dataframe tbody tr th:only-of-type {\n",
       "        vertical-align: middle;\n",
       "    }\n",
       "\n",
       "    .dataframe tbody tr th {\n",
       "        vertical-align: top;\n",
       "    }\n",
       "\n",
       "    .dataframe thead th {\n",
       "        text-align: right;\n",
       "    }\n",
       "</style>\n",
       "<table border=\"1\" class=\"dataframe\">\n",
       "  <thead>\n",
       "    <tr style=\"text-align: right;\">\n",
       "      <th></th>\n",
       "      <th>Year Founded</th>\n",
       "      <th>City</th>\n",
       "    </tr>\n",
       "    <tr>\n",
       "      <th>Team Name</th>\n",
       "      <th></th>\n",
       "      <th></th>\n",
       "    </tr>\n",
       "  </thead>\n",
       "  <tbody>\n",
       "    <tr>\n",
       "      <th>Suns</th>\n",
       "      <td>1968</td>\n",
       "      <td>Phoenix</td>\n",
       "    </tr>\n",
       "    <tr>\n",
       "      <th>Clippers</th>\n",
       "      <td>1970</td>\n",
       "      <td>Los Angeles</td>\n",
       "    </tr>\n",
       "    <tr>\n",
       "      <th>Jazz</th>\n",
       "      <td>1974</td>\n",
       "      <td>Utah</td>\n",
       "    </tr>\n",
       "    <tr>\n",
       "      <th>Nuggets</th>\n",
       "      <td>1976</td>\n",
       "      <td>Denver</td>\n",
       "    </tr>\n",
       "    <tr>\n",
       "      <th>Nets</th>\n",
       "      <td>1976</td>\n",
       "      <td>Brooklyn</td>\n",
       "    </tr>\n",
       "    <tr>\n",
       "      <th>Pacers</th>\n",
       "      <td>1976</td>\n",
       "      <td>Indiana</td>\n",
       "    </tr>\n",
       "    <tr>\n",
       "      <th>Hornets</th>\n",
       "      <td>1988</td>\n",
       "      <td>Charlotte</td>\n",
       "    </tr>\n",
       "    <tr>\n",
       "      <th>Timberwolves</th>\n",
       "      <td>1989</td>\n",
       "      <td>Minnesota</td>\n",
       "    </tr>\n",
       "    <tr>\n",
       "      <th>Magic</th>\n",
       "      <td>1989</td>\n",
       "      <td>Orlando</td>\n",
       "    </tr>\n",
       "    <tr>\n",
       "      <th>Grizzlies</th>\n",
       "      <td>1995</td>\n",
       "      <td>Memphis</td>\n",
       "    </tr>\n",
       "    <tr>\n",
       "      <th>Pelicans</th>\n",
       "      <td>2002</td>\n",
       "      <td>New Orleans</td>\n",
       "    </tr>\n",
       "  </tbody>\n",
       "</table>\n",
       "</div>"
      ],
      "text/plain": [
       "              Year Founded         City\n",
       "Team Name                              \n",
       "Suns                  1968      Phoenix\n",
       "Clippers              1970  Los Angeles\n",
       "Jazz                  1974         Utah\n",
       "Nuggets               1976       Denver\n",
       "Nets                  1976     Brooklyn\n",
       "Pacers                1976      Indiana\n",
       "Hornets               1988    Charlotte\n",
       "Timberwolves          1989    Minnesota\n",
       "Magic                 1989      Orlando\n",
       "Grizzlies             1995      Memphis\n",
       "Pelicans              2002  New Orleans"
      ]
     },
     "execution_count": 5,
     "metadata": {},
     "output_type": "execute_result"
    }
   ],
   "source": [
    "champions_data['Years Taken to Win First NBA Championship'] = champions_data['Year'] - champions_data['Year Founded']\n",
    "winners_list = champions_data.groupby('Champion Name').min('Years Taken to Win First NBA Championship').index\n",
    "not_won_teams = teams_info [~teams_info.isin(winners_list)].drop(['TEAM_ID'],axis=1).dropna().set_index('Team Name').sort_values('Year Founded')\n",
    "not_won_teams"
   ]
  },
  {
   "cell_type": "markdown",
   "metadata": {},
   "source": [
    "## Question 3 : How many years each team took to win its first NBA championship since it was founded? Also, I have sorted them so that we could find the teams which were quickest to win NBA Championship."
   ]
  },
  {
   "cell_type": "markdown",
   "metadata": {},
   "source": [
    "#### I already created 'Years Taken to Win First NBA Championship' column in my champions_data dataframe, so I just used that column and sort the values which gave me the list of teams which were quickest to win first NBA championship since it was founded."
   ]
  },
  {
   "cell_type": "code",
   "execution_count": 6,
   "metadata": {},
   "outputs": [
    {
     "data": {
      "text/html": [
       "<div>\n",
       "<style scoped>\n",
       "    .dataframe tbody tr th:only-of-type {\n",
       "        vertical-align: middle;\n",
       "    }\n",
       "\n",
       "    .dataframe tbody tr th {\n",
       "        vertical-align: top;\n",
       "    }\n",
       "\n",
       "    .dataframe thead th {\n",
       "        text-align: right;\n",
       "    }\n",
       "</style>\n",
       "<table border=\"1\" class=\"dataframe\">\n",
       "  <thead>\n",
       "    <tr style=\"text-align: right;\">\n",
       "      <th></th>\n",
       "      <th>Year Founded</th>\n",
       "      <th>First Championship Year</th>\n",
       "      <th>Years Taken to Win First NBA Championship</th>\n",
       "    </tr>\n",
       "    <tr>\n",
       "      <th>Champion Name</th>\n",
       "      <th></th>\n",
       "      <th></th>\n",
       "      <th></th>\n",
       "    </tr>\n",
       "  </thead>\n",
       "  <tbody>\n",
       "    <tr>\n",
       "      <th>Lakers</th>\n",
       "      <td>1948</td>\n",
       "      <td>1949</td>\n",
       "      <td>1</td>\n",
       "    </tr>\n",
       "    <tr>\n",
       "      <th>Warriors</th>\n",
       "      <td>1946</td>\n",
       "      <td>1947</td>\n",
       "      <td>1</td>\n",
       "    </tr>\n",
       "    <tr>\n",
       "      <th>Bucks</th>\n",
       "      <td>1968</td>\n",
       "      <td>1971</td>\n",
       "      <td>3</td>\n",
       "    </tr>\n",
       "    <tr>\n",
       "      <th>Kings</th>\n",
       "      <td>1948</td>\n",
       "      <td>1951</td>\n",
       "      <td>3</td>\n",
       "    </tr>\n",
       "    <tr>\n",
       "      <th>76ers</th>\n",
       "      <td>1949</td>\n",
       "      <td>1955</td>\n",
       "      <td>6</td>\n",
       "    </tr>\n",
       "    <tr>\n",
       "      <th>Trail Blazers</th>\n",
       "      <td>1970</td>\n",
       "      <td>1977</td>\n",
       "      <td>7</td>\n",
       "    </tr>\n",
       "    <tr>\n",
       "      <th>Hawks</th>\n",
       "      <td>1949</td>\n",
       "      <td>1958</td>\n",
       "      <td>9</td>\n",
       "    </tr>\n",
       "    <tr>\n",
       "      <th>Celtics</th>\n",
       "      <td>1946</td>\n",
       "      <td>1957</td>\n",
       "      <td>11</td>\n",
       "    </tr>\n",
       "    <tr>\n",
       "      <th>Thunder</th>\n",
       "      <td>1967</td>\n",
       "      <td>1979</td>\n",
       "      <td>12</td>\n",
       "    </tr>\n",
       "    <tr>\n",
       "      <th>Wizards</th>\n",
       "      <td>1961</td>\n",
       "      <td>1978</td>\n",
       "      <td>17</td>\n",
       "    </tr>\n",
       "    <tr>\n",
       "      <th>Heat</th>\n",
       "      <td>1988</td>\n",
       "      <td>2006</td>\n",
       "      <td>18</td>\n",
       "    </tr>\n",
       "    <tr>\n",
       "      <th>Spurs</th>\n",
       "      <td>1976</td>\n",
       "      <td>1999</td>\n",
       "      <td>23</td>\n",
       "    </tr>\n",
       "    <tr>\n",
       "      <th>Knicks</th>\n",
       "      <td>1946</td>\n",
       "      <td>1970</td>\n",
       "      <td>24</td>\n",
       "    </tr>\n",
       "    <tr>\n",
       "      <th>Raptors</th>\n",
       "      <td>1995</td>\n",
       "      <td>2019</td>\n",
       "      <td>24</td>\n",
       "    </tr>\n",
       "    <tr>\n",
       "      <th>Bulls</th>\n",
       "      <td>1966</td>\n",
       "      <td>1991</td>\n",
       "      <td>25</td>\n",
       "    </tr>\n",
       "    <tr>\n",
       "      <th>Rockets</th>\n",
       "      <td>1967</td>\n",
       "      <td>1994</td>\n",
       "      <td>27</td>\n",
       "    </tr>\n",
       "    <tr>\n",
       "      <th>Mavericks</th>\n",
       "      <td>1980</td>\n",
       "      <td>2011</td>\n",
       "      <td>31</td>\n",
       "    </tr>\n",
       "    <tr>\n",
       "      <th>Pistons</th>\n",
       "      <td>1948</td>\n",
       "      <td>1989</td>\n",
       "      <td>41</td>\n",
       "    </tr>\n",
       "    <tr>\n",
       "      <th>Cavaliers</th>\n",
       "      <td>1970</td>\n",
       "      <td>2016</td>\n",
       "      <td>46</td>\n",
       "    </tr>\n",
       "  </tbody>\n",
       "</table>\n",
       "</div>"
      ],
      "text/plain": [
       "               Year Founded  First Championship Year  \\\n",
       "Champion Name                                          \n",
       "Lakers                 1948                     1949   \n",
       "Warriors               1946                     1947   \n",
       "Bucks                  1968                     1971   \n",
       "Kings                  1948                     1951   \n",
       "76ers                  1949                     1955   \n",
       "Trail Blazers          1970                     1977   \n",
       "Hawks                  1949                     1958   \n",
       "Celtics                1946                     1957   \n",
       "Thunder                1967                     1979   \n",
       "Wizards                1961                     1978   \n",
       "Heat                   1988                     2006   \n",
       "Spurs                  1976                     1999   \n",
       "Knicks                 1946                     1970   \n",
       "Raptors                1995                     2019   \n",
       "Bulls                  1966                     1991   \n",
       "Rockets                1967                     1994   \n",
       "Mavericks              1980                     2011   \n",
       "Pistons                1948                     1989   \n",
       "Cavaliers              1970                     2016   \n",
       "\n",
       "               Years Taken to Win First NBA Championship  \n",
       "Champion Name                                             \n",
       "Lakers                                                 1  \n",
       "Warriors                                               1  \n",
       "Bucks                                                  3  \n",
       "Kings                                                  3  \n",
       "76ers                                                  6  \n",
       "Trail Blazers                                          7  \n",
       "Hawks                                                  9  \n",
       "Celtics                                               11  \n",
       "Thunder                                               12  \n",
       "Wizards                                               17  \n",
       "Heat                                                  18  \n",
       "Spurs                                                 23  \n",
       "Knicks                                                24  \n",
       "Raptors                                               24  \n",
       "Bulls                                                 25  \n",
       "Rockets                                               27  \n",
       "Mavericks                                             31  \n",
       "Pistons                                               41  \n",
       "Cavaliers                                             46  "
      ]
     },
     "execution_count": 6,
     "metadata": {},
     "output_type": "execute_result"
    }
   ],
   "source": [
    "quickest_champions = champions_data.groupby('Champion Name').min('Years Taken to Win First NBA Championship').sort_values('Years Taken to Win First NBA Championship')\n",
    "quickest_champions_final = quickest_champions[['Year Founded','Year','Years Taken to Win First NBA Championship']].rename(columns={'Year':'First Championship Year'})\n",
    "quickest_champions_final"
   ]
  },
  {
   "cell_type": "markdown",
   "metadata": {},
   "source": [
    "#### This function returns points table for the given conference at the end of each year's NBA regular season. I have daily points table for each season for each conference, so I just used max function to find out maximum date which is the season ending date."
   ]
  },
  {
   "cell_type": "code",
   "execution_count": 7,
   "metadata": {},
   "outputs": [],
   "source": [
    "def common_fun(x):\n",
    "    regular_season_points_table = daily_points_table[daily_points_table.Conference==x]\n",
    "    final_points_table = regular_season_points_table.groupby('Season_ID')['Standings Date'].max().to_frame().merge(regular_season_points_table)\n",
    "    return final_points_table"
   ]
  },
  {
   "cell_type": "markdown",
   "metadata": {},
   "source": [
    "## I have used ipy.Dropdown for the dropdown menu and ipy.interact for making my code interactive in all the functions."
   ]
  },
  {
   "cell_type": "markdown",
   "metadata": {},
   "source": [
    "## Question 4 : Between 2003 and 2020, list out teams from each conference which finished first in their conference and won NBA championship that year."
   ]
  },
  {
   "cell_type": "markdown",
   "metadata": {},
   "source": [
    "#### I used common_fun which returned me points table for each season. Then, I only selected teams which finished first in their conference in that year and then I appended that data into empty_df.  Thereafter I merged final_table_toppers with teams_info and then I compared top team with that year's champion name so it gave the list of teams from each conference which finished first in their conference and won NBA that year."
   ]
  },
  {
   "cell_type": "code",
   "execution_count": 8,
   "metadata": {},
   "outputs": [
    {
     "data": {
      "application/vnd.jupyter.widget-view+json": {
       "model_id": "5e9d9c5d2a3642e287524912b1e01e22",
       "version_major": 2,
       "version_minor": 0
      },
      "text/plain": [
       "interactive(children=(Dropdown(description='Conference', options=('West', 'East'), value='West'), Output()), _…"
      ]
     },
     "metadata": {},
     "output_type": "display_data"
    },
    {
     "data": {
      "text/plain": [
       "<function __main__.table_topper_won(x)>"
      ]
     },
     "execution_count": 8,
     "metadata": {},
     "output_type": "execute_result"
    }
   ],
   "source": [
    "def table_topper_won(x):\n",
    "    empty_df = pd.DataFrame(columns = ['Team_ID','Season_ID','Team Name','G','W','L','W_PCT'])\n",
    "    conf_data = common_fun(x)\n",
    "\n",
    "    for i in conf_data.Season_ID.unique():\n",
    "        zz = conf_data[conf_data.Season_ID==i].iloc[0].to_frame().T\n",
    "        empty_df = empty_df.append(zz)\n",
    "    \n",
    "    empty_df['Year'] = empty_df['Season_ID'] - 20000 + 1\n",
    "    final_table_toppers = empty_df.merge(finals_data)[['Year','Western Champion','Eastern Champion','Champion Name','Team_ID']]\n",
    "    \n",
    "    top_teams_performance = final_table_toppers.merge(teams_info,left_on='Team_ID',right_on='TEAM_ID').set_index('Year').drop(['Year Founded','City','Team_ID','TEAM_ID'],axis=1)\n",
    "    top_teams_performance.rename(columns={'Team Name':'Table Topper Team'},inplace=True)\n",
    "    top_teams_performance['Top_team_winning'] = np.where(top_teams_performance['Champion Name'] == top_teams_performance['Table Topper Team'],'Yes','No')\n",
    "    sorted_top_performance = top_teams_performance.sort_values('Year')\n",
    "    display(sorted_top_performance[sorted_top_performance.Top_team_winning=='Yes'])\n",
    "    \n",
    "conf_selector_table_topper_won = ipy.Dropdown(\n",
    "options=['West','East'],\n",
    "description='Conference')\n",
    "\n",
    "ipy.interact(table_topper_won, x = conf_selector_table_topper_won)"
   ]
  },
  {
   "cell_type": "code",
   "execution_count": 9,
   "metadata": {},
   "outputs": [],
   "source": [
    "# I have players data between 2003-2020. So, I have only kept dataset of players whose Birth_Year>=1960.\n",
    "current_players_bios = players_bios[players_bios.Birth_Year>=1960]\n",
    "\n",
    "# I have information about all players whether they played in a game or not. So, I kept only players who played the game by considering 'MIN' column.\n",
    "lineup_players = games_details[games_details.MIN>'00:00:00']\n",
    "no_of_games_played_df = lineup_players.groupby('Player Name')['Game_ID'].count().to_frame().rename(columns={'Game_ID':'No. of Games Played'}).sort_values('No. of Games Played',ascending=False)\n",
    "\n",
    "# For the next question, I only kept players who played at least 300 matches so that it can give me some reliable correlation.\n",
    "minimum_matches_df = no_of_games_played_df[no_of_games_played_df['No. of Games Played'] >=300]\n",
    "players_matches_data = lineup_players.merge(minimum_matches_df,left_on='Player Name',right_on=minimum_matches_df.index)"
   ]
  },
  {
   "cell_type": "code",
   "execution_count": 10,
   "metadata": {},
   "outputs": [],
   "source": [
    "# Here I calculated free throw percentage for the players. \n",
    "# Also, I megred free_throw_data and current_players_bios so that both Free Throw Percentage and Players Height columns will be in the same dataframe.\n",
    "free_throw_data = players_matches_data.groupby('Player Name').sum()[['FTM','FTA']]\n",
    "free_throw_data['FT_PCT'] = free_throw_data['FTM']*100/ free_throw_data['FTA']\n",
    "\n",
    "ft_height_merged_df = free_throw_data.merge(current_players_bios,left_on=free_throw_data.index,right_on='Player').sort_values(by='FT_PCT',ascending=False)"
   ]
  },
  {
   "cell_type": "markdown",
   "metadata": {},
   "source": [
    "## Question 5 : Find out Correlation between Free Throw Percentage and Players' Height for the players who played at least 300 matches during 2003-2020."
   ]
  },
  {
   "cell_type": "markdown",
   "metadata": {},
   "source": [
    "#### Here I found out Pearson Correlation between Free Throw Percentage and Players' Height."
   ]
  },
  {
   "cell_type": "code",
   "execution_count": 11,
   "metadata": {},
   "outputs": [
    {
     "name": "stdout",
     "output_type": "stream",
     "text": [
      "The Pearson Correlation between Free Throw Percentage and Players Height is corr -0.4169500032891986\n"
     ]
    }
   ],
   "source": [
    "ft_height_merged_df.drop(['Weight','College','Birth_Year','Birth_State'],axis=1).set_index('Player')\n",
    "corr = ft_height_merged_df['FT_PCT'].corr(ft_height_merged_df['Height'])\n",
    "print('The Pearson Correlation between Free Throw Percentage and Player''s Height is corr',corr)"
   ]
  },
  {
   "cell_type": "markdown",
   "metadata": {},
   "source": [
    "### <u>Conclusion</u> : Pearson correlation between Free Throw Percentage and Players' Height is -0.42. Therefore, it is clear that  Free Throw Percentage and  Players' Height are not strongly correlated."
   ]
  },
  {
   "cell_type": "markdown",
   "metadata": {},
   "source": [
    "## Question 6 : LeBron James played for 3 teams during 2003-2020: Miami Heat, Cleveland Cavaliers & Los Angeles Lakers and he won NBA championship with all the teams. So, I compared his performance per game for these teams and also made a plot of comparison."
   ]
  },
  {
   "cell_type": "code",
   "execution_count": 12,
   "metadata": {},
   "outputs": [],
   "source": [
    "# I selected 'LeBron James' data to compare his performance for 3 teams.\n",
    "lebron_data = lineup_players[lineup_players['Player Name']=='LeBron James'].drop(['Player Name','Team City','Comment','Game_ID','Team_ID','Player_ID','Start_Position','PF'],axis=1).set_index('Team_Abbreviation')"
   ]
  },
  {
   "cell_type": "code",
   "execution_count": 13,
   "metadata": {},
   "outputs": [],
   "source": [
    "# I converted 'MIN' column which was in the form of \"mm:ss\" into total minutes played for all games.\n",
    "lebron_time_data = lebron_data[~lebron_data['MIN'].str.contains(':')].rename(columns={'MIN':'m'})\n",
    "lebron_time_data['m'] = lebron_time_data['m'].astype(int)\n",
    "lebron_time_data['s'] = 0\n",
    "\n",
    "lebron_time_data_mins = lebron_data[lebron_data['MIN'].str.contains(':')]\n",
    "lebron_time_data_mins[['m','s']] = lebron_time_data_mins['MIN'].astype(str).str.split(':', expand=True).astype(int)\n",
    "lebron_final_df = lebron_time_data_mins.append(lebron_time_data)\n",
    "lebron_final_df['Minutes Played'] = lebron_final_df['m'] + (lebron_final_df['s']/60)\n",
    "lebron_final_df.drop(['MIN','m','s'],axis=1,inplace=True)"
   ]
  },
  {
   "cell_type": "code",
   "execution_count": 14,
   "metadata": {},
   "outputs": [],
   "source": [
    "# I found per game data for LeBron James for all 3 teams. Also, I found how many matches LeBron played for each team.\n",
    "lebron_totals_by_team = lebron_final_df.groupby(lebron_final_df.index).mean()\n",
    "players_matches_per_team = lineup_players.groupby(['Player Name','Team_Abbreviation']).count().sort_values(by='MIN',ascending=False)['Game_ID'].to_frame()\n",
    "lebron_matches_per_team = (players_matches_per_team.loc[['LeBron James']]).reset_index(level=0, drop=True)"
   ]
  },
  {
   "cell_type": "markdown",
   "metadata": {},
   "source": [
    "#### I included 'Seasons Played' and 'No. of times team Won NBA' columns into lebron_merged_df. Then, I found out percentage values for FG, FT and FG3. Then, I plotted LeBron's performance comparison for per game for CLE, MIA and LAL."
   ]
  },
  {
   "cell_type": "code",
   "execution_count": 15,
   "metadata": {},
   "outputs": [
    {
     "data": {
      "application/vnd.jupyter.widget-view+json": {
       "model_id": "14abd043d0444821af6df2e5882125df",
       "version_major": 2,
       "version_minor": 0
      },
      "text/plain": [
       "interactive(children=(Dropdown(description='Category', options=('AST', 'BLK', 'FG3_PCT', 'FG_PCT', 'FT_PCT', '…"
      ]
     },
     "metadata": {},
     "output_type": "display_data"
    },
    {
     "data": {
      "text/plain": [
       "<function __main__.lebron_fun(x)>"
      ]
     },
     "execution_count": 15,
     "metadata": {},
     "output_type": "execute_result"
    }
   ],
   "source": [
    "def lebron_fun(x):\n",
    "    lebron_merged_df = lebron_matches_per_team.merge(lebron_totals_by_team,left_index=True,right_index=True)\n",
    "    lebron_merged_df ['Seasons Played'] = [11,4,2]\n",
    "    lebron_merged_df ['No. of times team Won NBA'] = [1,2,1]\n",
    "\n",
    "    lebron_merged_df['FG_PCT'] = lebron_merged_df['FGM']*100/lebron_merged_df['FGA']\n",
    "    lebron_merged_df['FT_PCT'] = lebron_merged_df['FTM']*100/lebron_merged_df['FTA']\n",
    "    lebron_merged_df['FG3_PCT'] = lebron_merged_df['FG3M']*100/lebron_merged_df['FG3A']\n",
    "    lebron_merged_df.drop(['FGM','FGA','FG3M','FG3A','FTM','FTA'],axis=1,inplace=True)\n",
    "    lebron_merged_df.rename(columns={'Game_ID':'Games Played'},inplace=True)\n",
    "    \n",
    "    display(lebron_merged_df[[x]])\n",
    "    ax = lebron_merged_df.plot(kind='bar',y=x,width=0.4)\n",
    "    ax.set_xlabel('Team Name',fontsize=20)\n",
    "    ax.set_ylabel('{}'.format(x),fontsize=20)\n",
    "    ax.set_title('{} Comparison for LeBron James for all 3 teams'.format(x),fontsize=25)\n",
    "    ax.set_xticklabels(labels=lebron_merged_df.index,fontsize=15,rotation=0)\n",
    "\n",
    "conf_selector_lebron_fun = ipy.Dropdown(\n",
    "options = np.sort(['Games Played', 'REB', 'AST', 'STL', 'BLK', 'TO', 'PTS',\n",
    "       'Minutes Played', 'Seasons Played', 'No. of times team Won NBA', 'FG_PCT', 'FT_PCT',\n",
    "       'FG3_PCT']),\n",
    "description='Category')\n",
    "    \n",
    "ipy.interact(lebron_fun, x = conf_selector_lebron_fun)"
   ]
  },
  {
   "cell_type": "markdown",
   "metadata": {},
   "source": [
    "## Triple Double means a player scored at least 10 points (double digit) in at least 3 of the 5 statistical categories: Points, Rebounds, Steals, Assists and Blocks."
   ]
  },
  {
   "cell_type": "markdown",
   "metadata": {},
   "source": [
    "#### I made a copy of lineup_players so the changes I made will not affect the original lineup_players dataframe. As per Triple Double definition I checked all 5 columns whether they have a double digit value or not. If they have double digit value then I put 1 otherwise 0."
   ]
  },
  {
   "cell_type": "code",
   "execution_count": 16,
   "metadata": {},
   "outputs": [],
   "source": [
    "lineup_players_copy = lineup_players\n",
    "lineup_players_copy['PTS_TD']=np.where(lineup_players_copy['PTS']>=10,1,0)\n",
    "lineup_players_copy['REB_TD']=np.where(lineup_players_copy['REB']>=10,1,0)\n",
    "lineup_players_copy['STL_TD']=np.where(lineup_players_copy['STL']>=10,1,0)\n",
    "lineup_players_copy['AST_TD']=np.where(lineup_players_copy['AST']>=10,1,0)\n",
    "lineup_players_copy['BLK_TD']=np.where(lineup_players_copy['BLK']>=10,1,0)"
   ]
  },
  {
   "cell_type": "markdown",
   "metadata": {},
   "source": [
    "## Question 7 : Between 2003 and 2020, List out top 10 players with most no. of Triple Doubles."
   ]
  },
  {
   "cell_type": "markdown",
   "metadata": {},
   "source": [
    "### After summation, if any player have 'TD' column value 3 or more then it means he scored Triple Double in that game and then I counted such players and their total no. of triple doubles."
   ]
  },
  {
   "cell_type": "code",
   "execution_count": 17,
   "metadata": {},
   "outputs": [
    {
     "data": {
      "text/html": [
       "<div>\n",
       "<style scoped>\n",
       "    .dataframe tbody tr th:only-of-type {\n",
       "        vertical-align: middle;\n",
       "    }\n",
       "\n",
       "    .dataframe tbody tr th {\n",
       "        vertical-align: top;\n",
       "    }\n",
       "\n",
       "    .dataframe thead th {\n",
       "        text-align: right;\n",
       "    }\n",
       "</style>\n",
       "<table border=\"1\" class=\"dataframe\">\n",
       "  <thead>\n",
       "    <tr style=\"text-align: right;\">\n",
       "      <th></th>\n",
       "      <th>No. of Triple Doubles</th>\n",
       "    </tr>\n",
       "    <tr>\n",
       "      <th>Player Name</th>\n",
       "      <th></th>\n",
       "    </tr>\n",
       "  </thead>\n",
       "  <tbody>\n",
       "    <tr>\n",
       "      <th>Russell Westbrook</th>\n",
       "      <td>171</td>\n",
       "    </tr>\n",
       "    <tr>\n",
       "      <th>LeBron James</th>\n",
       "      <td>127</td>\n",
       "    </tr>\n",
       "    <tr>\n",
       "      <th>Jason Kidd</th>\n",
       "      <td>62</td>\n",
       "    </tr>\n",
       "    <tr>\n",
       "      <th>James Harden</th>\n",
       "      <td>60</td>\n",
       "    </tr>\n",
       "    <tr>\n",
       "      <th>Nikola Jokic</th>\n",
       "      <td>58</td>\n",
       "    </tr>\n",
       "    <tr>\n",
       "      <th>Rajon Rondo</th>\n",
       "      <td>42</td>\n",
       "    </tr>\n",
       "    <tr>\n",
       "      <th>Draymond Green</th>\n",
       "      <td>37</td>\n",
       "    </tr>\n",
       "    <tr>\n",
       "      <th>Luka Doncic</th>\n",
       "      <td>36</td>\n",
       "    </tr>\n",
       "    <tr>\n",
       "      <th>Ben Simmons</th>\n",
       "      <td>34</td>\n",
       "    </tr>\n",
       "    <tr>\n",
       "      <th>Giannis Antetokounmpo</th>\n",
       "      <td>27</td>\n",
       "    </tr>\n",
       "  </tbody>\n",
       "</table>\n",
       "</div>"
      ],
      "text/plain": [
       "                       No. of Triple Doubles\n",
       "Player Name                                 \n",
       "Russell Westbrook                        171\n",
       "LeBron James                             127\n",
       "Jason Kidd                                62\n",
       "James Harden                              60\n",
       "Nikola Jokic                              58\n",
       "Rajon Rondo                               42\n",
       "Draymond Green                            37\n",
       "Luka Doncic                               36\n",
       "Ben Simmons                               34\n",
       "Giannis Antetokounmpo                     27"
      ]
     },
     "execution_count": 17,
     "metadata": {},
     "output_type": "execute_result"
    }
   ],
   "source": [
    "lineup_players_copy['TD'] = lineup_players_copy['PTS_TD']+lineup_players_copy['REB_TD']+lineup_players_copy['STL_TD']+lineup_players_copy['AST_TD']+lineup_players_copy['BLK_TD']\n",
    "lineup_players_copy['TD?'] = np.where(lineup_players_copy['TD']>=3,True,False)\n",
    "triple_double_df = lineup_players_copy[lineup_players_copy['TD?']==True]\n",
    "triple_double_df.groupby('Player Name')['Game_ID'].count().sort_values(ascending=False).to_frame().rename(columns={'Game_ID':'No. of Triple Doubles'}).head(10)"
   ]
  },
  {
   "cell_type": "code",
   "execution_count": 18,
   "metadata": {},
   "outputs": [],
   "source": [
    "# I calculated all players' per game data across all statistical categories. Also, I found the percentage values for FG, FT and FG3.\n",
    "players_avg_data = lineup_players.groupby('Player Name').mean().drop(['Game_ID','Team_ID','Player_ID'],axis=1)\n",
    "players_avg_data['FG_PCT'] = players_avg_data['FGM'] *100/players_avg_data['FGA']\n",
    "players_avg_data['FT_PCT'] = players_avg_data['FTM']*100/players_avg_data['FTA']\n",
    "players_avg_data['FG3_PCT'] = players_avg_data['FG3M']*100/players_avg_data['FG3A']\n",
    "\n",
    "players_avg_df_final = players_avg_data.drop(['FGM','FGA','FG3M','FG3A','FTM','FTA','PTS_TD','REB_TD','STL_TD','AST_TD','BLK_TD','TD','TD?'],axis=1).fillna(0).T"
   ]
  },
  {
   "cell_type": "markdown",
   "metadata": {},
   "source": [
    "## Question 8 : Comparison between 2 selected players for all the statistical categories. This is per game's performance comparison."
   ]
  },
  {
   "cell_type": "markdown",
   "metadata": {},
   "source": [
    "#### Here I created function which compares two players' per game performance using players_avg_df_final dataframe."
   ]
  },
  {
   "cell_type": "code",
   "execution_count": 19,
   "metadata": {},
   "outputs": [
    {
     "data": {
      "application/vnd.jupyter.widget-view+json": {
       "model_id": "220bc811622442f7aaa4a9b86af366af",
       "version_major": 2,
       "version_minor": 0
      },
      "text/plain": [
       "interactive(children=(Dropdown(description='Player 1', options=('A.J. Guyton', 'AJ Hammons', 'AJ Price', 'Aaro…"
      ]
     },
     "metadata": {},
     "output_type": "display_data"
    },
    {
     "data": {
      "text/plain": [
       "<function __main__.player_comp_avg_fun(x, y)>"
      ]
     },
     "execution_count": 19,
     "metadata": {},
     "output_type": "execute_result"
    }
   ],
   "source": [
    "def player_comp_avg_fun(x,y):\n",
    "    players_avg_int = players_avg_df_final[[x,y]]\n",
    "    display(players_avg_int)\n",
    "    \n",
    "player1_comp_avg_fun_selector = ipy.Dropdown(\n",
    "options = np.sort(players_avg_df_final.columns),\n",
    "description = 'Player 1')\n",
    "\n",
    "player2_comp_avg_fun_selector  = ipy.Dropdown(\n",
    "options = np.sort(players_avg_df_final.columns),\n",
    "description = 'Player 2')\n",
    "\n",
    "ipy.interact(player_comp_avg_fun,x=player1_comp_avg_fun_selector, y=player2_comp_avg_fun_selector )"
   ]
  },
  {
   "cell_type": "code",
   "execution_count": 20,
   "metadata": {},
   "outputs": [],
   "source": [
    "# I seperated Home wins, Home Loses, Away Wins, Away Loses from HOME_RECORD and ROAD_RECORD column of daily_points_table.\n",
    "# Also, I converted all 4 columns into numeric integer values.\n",
    "daily_points_table[['Home Wins','Home Loses']] = daily_points_table.HOME_RECORD.str.split(\"-\",expand=True)\n",
    "daily_points_table[['Away Wins','Away Loses']] = daily_points_table.ROAD_RECORD.str.split(\"-\",expand=True)\n",
    "\n",
    "daily_points_table['Away Wins'] = pd.to_numeric(daily_points_table['Away Wins'])\n",
    "daily_points_table['Home Wins'] = pd.to_numeric(daily_points_table['Home Wins'])\n",
    "daily_points_table['Away Loses'] = pd.to_numeric(daily_points_table['Away Loses'])\n",
    "daily_points_table['Home Loses'] = pd.to_numeric(daily_points_table['Home Loses'])\n",
    "\n",
    "daily_points_table.drop(['HOME_RECORD','ROAD_RECORD'],axis=1,inplace=True)"
   ]
  },
  {
   "cell_type": "markdown",
   "metadata": {},
   "source": [
    "## Question 9 : Between 2003 and 2020 which team had most no. of Home Wins? Also, which team had most no. of Away Wins? List out Top 10 teams from each conference."
   ]
  },
  {
   "cell_type": "markdown",
   "metadata": {},
   "source": [
    "#### To find out this, I have used 'Home Wins' and 'Away Wins' columns which I have created earlier. Then, sorted it in descending order to find out top 10 teams from each conference."
   ]
  },
  {
   "cell_type": "code",
   "execution_count": 21,
   "metadata": {},
   "outputs": [
    {
     "data": {
      "application/vnd.jupyter.widget-view+json": {
       "model_id": "03732884d0b842bba6925bea5291659b",
       "version_major": 2,
       "version_minor": 0
      },
      "text/plain": [
       "interactive(children=(Dropdown(description='Conference', options=('West', 'East'), value='West'), Output()), _…"
      ]
     },
     "metadata": {},
     "output_type": "display_data"
    },
    {
     "data": {
      "text/plain": [
       "<function __main__.best_home_away(x)>"
      ]
     },
     "execution_count": 21,
     "metadata": {},
     "output_type": "execute_result"
    }
   ],
   "source": [
    "def best_home_away(x):    \n",
    "    final_points_table = common_fun(x)\n",
    "    home_wins_top10 = final_points_table.groupby('Team Name')['Home Wins'].sum().sort_values(ascending=False).head(10).to_frame()\n",
    "    away_wins_top10 = final_points_table.groupby('Team Name')['Away Wins'].sum().sort_values(ascending=False).head(10).to_frame()\n",
    "    display(home_wins_top10) \n",
    "    display(away_wins_top10)\n",
    "\n",
    "conf_selector_best_home_away = ipy.Dropdown(\n",
    "options=['West','East'],\n",
    "description='Conference')\n",
    "\n",
    "ipy.interact(best_home_away,x = conf_selector_best_home_away)"
   ]
  },
  {
   "cell_type": "markdown",
   "metadata": {},
   "source": [
    "## Question 10 : List out teams from every year's points table from each conference which qualified for playoffs during 2004-2020."
   ]
  },
  {
   "cell_type": "markdown",
   "metadata": {},
   "source": [
    "#### In NBA, top 8 teams from each conference's points table qualifies every year. So, I used common_fun which returned me the points table for selected conference, from which I selected top 8 teams. Then, I used empty_df2 dataframe to merge it with conference_most_qualificaition dataframe."
   ]
  },
  {
   "cell_type": "code",
   "execution_count": 22,
   "metadata": {},
   "outputs": [
    {
     "data": {
      "application/vnd.jupyter.widget-view+json": {
       "model_id": "c1bed4531855477993ff6755345d737f",
       "version_major": 2,
       "version_minor": 0
      },
      "text/plain": [
       "interactive(children=(Dropdown(description='Conference', options=('West', 'East'), value='West'), Dropdown(des…"
      ]
     },
     "metadata": {},
     "output_type": "display_data"
    },
    {
     "data": {
      "text/plain": [
       "<function __main__.no_of_qual(y, z)>"
      ]
     },
     "execution_count": 22,
     "metadata": {},
     "output_type": "execute_result"
    }
   ],
   "source": [
    "def no_of_qual(y,z):\n",
    "    empty_df2 = pd.DataFrame(columns = ['Season_ID','Team Name','G','W','L','W_PCT'])\n",
    "    conference_most_qualificaition = common_fun(y)\n",
    "    for i in conference_most_qualificaition.Season_ID.unique():\n",
    "        ww = conference_most_qualificaition[conference_most_qualificaition.Season_ID==i].nlargest(8,'W')\n",
    "        empty_df2 = empty_df2.append(ww)\n",
    "    empty_df2['Year'] = empty_df2['Season_ID'] - 20000 + 1\n",
    "    empty_df2.drop(['Season_ID','Standings Date','Team_ID','Conference'],axis=1,inplace=True)\n",
    "    empty_df2.set_index('Team Name',inplace=True)\n",
    "    display(empty_df2[empty_df2.Year==z])\n",
    "    \n",
    "conf_selector_no_of_qual = ipy.Dropdown(\n",
    "options = ['West','East'],\n",
    "description = 'Conference')\n",
    "\n",
    "year_selector_no_of_qual = ipy.Dropdown(\n",
    "options = np.arange(2004,2021,1),\n",
    "description = 'Year')\n",
    "\n",
    "ipy.interact(no_of_qual,y = conf_selector_no_of_qual, z = year_selector_no_of_qual)"
   ]
  },
  {
   "cell_type": "markdown",
   "metadata": {},
   "source": [
    "## Question 11 : Between 2004 and 2020, List out top 10 teams from each conference which qualified most for the play-offs."
   ]
  },
  {
   "cell_type": "markdown",
   "metadata": {},
   "source": [
    "#### To find out this, I have created an empty dataframe to append, also I used common_fun function which returned points table. Top 8 teams qualifies for the play-offs, so I filtered top 8 teams from conference_most_qualificaition. If the team qualified for the play-offs then I added value 1 in the column 'Play-offs Qualification Times' so that I can count total no. of play-offs qualifications."
   ]
  },
  {
   "cell_type": "code",
   "execution_count": 23,
   "metadata": {},
   "outputs": [
    {
     "data": {
      "application/vnd.jupyter.widget-view+json": {
       "model_id": "f4127e5df8f74585ae54b50cbe5959a9",
       "version_major": 2,
       "version_minor": 0
      },
      "text/plain": [
       "interactive(children=(Dropdown(description='Conference', options=('West', 'East'), value='West'), Output()), _…"
      ]
     },
     "metadata": {},
     "output_type": "display_data"
    },
    {
     "data": {
      "text/plain": [
       "<function __main__.most_qual(x)>"
      ]
     },
     "execution_count": 23,
     "metadata": {},
     "output_type": "execute_result"
    }
   ],
   "source": [
    "def most_qual(x):\n",
    "    empty_df3 = pd.DataFrame(columns = ['Season_ID','Team Name','G','W','L','W_PCT'])\n",
    "    conference_most_qualificaition = common_fun(x)\n",
    "    for i in conference_most_qualificaition.Season_ID.unique():\n",
    "        ww = conference_most_qualificaition[conference_most_qualificaition.Season_ID==i].nlargest(8,'W')\n",
    "        empty_df3 = empty_df3.append(ww)\n",
    "    empty_df3['Play-offs Qualification Times'] = 1\n",
    "    \n",
    "    display(empty_df3.groupby('Team Name').count()['Play-offs Qualification Times'].sort_values(ascending=False).to_frame().head(10))\n",
    "\n",
    "conf_selector_most_qual = ipy.Dropdown(\n",
    "options=['West','East'],\n",
    "description='Conference')\n",
    "\n",
    "ipy.interact(most_qual, x = conf_selector_most_qual)"
   ]
  },
  {
   "cell_type": "markdown",
   "metadata": {},
   "source": [
    "#### Here in games_data_homeaway SEASON 2018 represents 2018-19 data, so I give them a new column named 'Year' which is SEASON+1. In games_data_homeaway, I only have IDs of home teams and visitor(away) teams. So, I performed merge operations twice to assign home teams and visitor teams' names to their corresponding IDs."
   ]
  },
  {
   "cell_type": "code",
   "execution_count": 24,
   "metadata": {},
   "outputs": [],
   "source": [
    "games_data_homeaway['Year'] = games_data_homeaway.SEASON + 1\n",
    "teams_info_filtered = teams_info[['TEAM_ID','Team Name']]\n",
    "home_team_incl = games_data_homeaway.merge(teams_info_filtered,left_on='HOME_TEAM_ID',right_on='TEAM_ID').rename(columns={'Team Name':'Home Team'})\n",
    "final_homeaway_df = home_team_incl.merge(teams_info_filtered,left_on='VISITOR_TEAM_ID',right_on='TEAM_ID').rename(columns={'Team Name':'Away Team'})\n",
    "\n",
    "final_homeaway_df.drop(['HOME_TEAM_ID','VISITOR_TEAM_ID','SEASON','TEAM_ID_x','TEAM_ID_y'],axis=1,inplace=True)\n",
    "# Also, I removed year 2021's data as 2020-21 NBA season is not finished yet, it is still ongoing.\n",
    "final_homeaway_finished = final_homeaway_df[final_homeaway_df.Year!=2021]"
   ]
  },
  {
   "cell_type": "markdown",
   "metadata": {},
   "source": [
    "## Question 12 : Plot the comparison of all teams' average (per game) performance in any statistical category for the selected year between 2004 and 2020."
   ]
  },
  {
   "cell_type": "markdown",
   "metadata": {},
   "source": [
    "#### Here I created 2 dataframes one for home team's average stats and other for away team's average stats, here I grouped the dataset by 'Home Team' as it is teamwise comparison. Then, I merged both of the dataframes so that I can create a dataframe which have combined average data. At last, I plotted all teams' performance in any statistical category for the selected year."
   ]
  },
  {
   "cell_type": "code",
   "execution_count": 25,
   "metadata": {},
   "outputs": [
    {
     "data": {
      "application/vnd.jupyter.widget-view+json": {
       "model_id": "af9107085f2a4d67b0ba657230e9a866",
       "version_major": 2,
       "version_minor": 0
      },
      "text/plain": [
       "interactive(children=(Dropdown(description='Year', options=(2004, 2005, 2006, 2007, 2008, 2009, 2010, 2011, 20…"
      ]
     },
     "metadata": {},
     "output_type": "display_data"
    },
    {
     "data": {
      "text/plain": [
       "<function __main__.teamwise_home_away(x, y)>"
      ]
     },
     "execution_count": 25,
     "metadata": {},
     "output_type": "execute_result"
    }
   ],
   "source": [
    "def teamwise_home_away(x,y):\n",
    "    final_homeaway_year = final_homeaway_finished[final_homeaway_finished.Year==x]\n",
    "    final_df_teams_home = final_homeaway_year.groupby('Home Team').mean().drop(['PTS_away','FG_PCT_away','FT_PCT_away','FG3_PCT_away','AST_away','REB_away','Year'],axis=1)\n",
    "    final_df_teams_home['Average Home FG Percentage'] = final_df_teams_home['FG_PCT_home']*100\n",
    "    final_df_teams_home['Average Home FT Percentage'] = final_df_teams_home['FT_PCT_home']*100\n",
    "    final_df_teams_home['Average Home 3-Pointers Percentage'] = final_df_teams_home['FG3_PCT_home']*100\n",
    "    final_df_teams_home.rename(columns={'AST_home':'Average Home Assists','REB_home':'Average Home Rebounds','PTS_home':'Average Home Points'},inplace=True)\n",
    "\n",
    "    final_df_teams_away = final_homeaway_year.groupby('Away Team').mean().drop(['PTS_home','FG_PCT_home','FT_PCT_home','FG3_PCT_home','AST_home','REB_home','Year'],axis=1)\n",
    "    final_df_teams_away['Average Away FG Percentage'] = final_df_teams_away['FG_PCT_away']*100\n",
    "    final_df_teams_away['Average Away FT Percentage'] = final_df_teams_away['FT_PCT_away']*100\n",
    "    final_df_teams_away['Average Away 3-Pointers Percentage'] = final_df_teams_away['FG3_PCT_away']*100\n",
    "    final_df_teams_away.rename(columns={'AST_away':'Average Away Assists','REB_away':'Average Away Rebounds','PTS_away':'Average Away Points'},inplace=True)\n",
    "\n",
    "    final_df_teams = final_df_teams_home.merge(final_df_teams_away,left_index=True,right_index=True)\n",
    "    ax = final_df_teams.plot(kind='bar',y=y,width=0.8)\n",
    "    ax.set_xlabel('Team Name',fontsize=20)\n",
    "    ax.set_ylabel('{}'.format(y),fontsize=20)\n",
    "    ax.set_title('{} Comparison Between All Teams For {}'.format(y,x),fontsize=25)\n",
    "    ax.set_xticklabels(labels=final_df_teams.index,fontsize=15)\n",
    "    ax.set_yticklabels(labels=[0,0,10,20,30,40,50,60,70,80,90,100,110,120,130],fontsize=15)\n",
    "    ax.yaxis.set_major_locator(tt.MultipleLocator(10))\n",
    "    \n",
    "teamwise_home_away_year_selector = ipy.Dropdown(\n",
    "options = np.arange(2004,2021,1),\n",
    "description = 'Year')\n",
    "\n",
    "teamwise_home_away_criteria_selector = ipy.Dropdown(\n",
    "options = ['Average Home Points','Average Home Assists','Average Home Rebounds','Average Home FG Percentage','Average Home FT Percentage','Average Home 3-Pointers Percentage','Average Away Points','Average Away Assists','Average Away Rebounds','Average Away FG Percentage','Average Away FT Percentage','Average Away 3-Pointers Percentage'],\n",
    "description = 'Category')\n",
    "\n",
    "ipy.interact(teamwise_home_away ,x = teamwise_home_away_year_selector, y = teamwise_home_away_criteria_selector)"
   ]
  },
  {
   "cell_type": "markdown",
   "metadata": {},
   "source": [
    "## Question 13 : Plot the side-by-side yearly comparison for home and away performance in any statistical category for the selected team between 2004 and 2020."
   ]
  },
  {
   "cell_type": "markdown",
   "metadata": {},
   "source": [
    "#### Here I created 2 dataframes one for home team's average stats and other for away team's average stats, here I grouped the dataset by 'Year' as it is yearly comparison. Then, I merged both of the dataframes so that I can create a dataframe which have combined average data. At last, I plotted side-by-side bar chart which shows yearly comparison for home and away performance in any statistical category for the selected team between 2004 and 2020."
   ]
  },
  {
   "cell_type": "code",
   "execution_count": 26,
   "metadata": {},
   "outputs": [
    {
     "data": {
      "application/vnd.jupyter.widget-view+json": {
       "model_id": "7bb786c88a0e4906872965447beb40f1",
       "version_major": 2,
       "version_minor": 0
      },
      "text/plain": [
       "interactive(children=(Dropdown(description='Team', options=('76ers', 'Bucks', 'Bulls', 'Cavaliers', 'Celtics',…"
      ]
     },
     "metadata": {},
     "output_type": "display_data"
    },
    {
     "data": {
      "text/plain": [
       "<function __main__.yearly_home_away_comp(x, y)>"
      ]
     },
     "execution_count": 26,
     "metadata": {},
     "output_type": "execute_result"
    }
   ],
   "source": [
    "def yearly_home_away_comp(x,y):\n",
    "    yearly_df = final_homeaway_finished[final_homeaway_finished['Home Team']==x] \n",
    "    yearly_home_df = yearly_df.groupby('Year').mean().drop(['PTS_away','FG_PCT_away','FT_PCT_away','FG3_PCT_away','AST_away','REB_away'],axis=1)\n",
    "    yearly_home_df['Average Home FG Percentage'] = yearly_home_df['FG_PCT_home']*100\n",
    "    yearly_home_df['Average Home FT Percentage'] = yearly_home_df['FT_PCT_home']*100\n",
    "    yearly_home_df['Average Home 3-Pointers Percentage'] = yearly_home_df['FG3_PCT_home']*100\n",
    "    yearly_home_df.rename(columns={'AST_home':'Average Home Assists','REB_home':'Average Home Rebounds','PTS_home':'Average Home Points'},inplace=True)\n",
    "\n",
    "    yearly_away_df = yearly_df.groupby('Year').mean().drop(['PTS_home','FG_PCT_home','FT_PCT_home','FG3_PCT_home','AST_home','REB_home'],axis=1)\n",
    "    yearly_away_df['Average Away FG Percentage'] = yearly_away_df['FG_PCT_away']*100\n",
    "    yearly_away_df['Average Away FT Percentage'] = yearly_away_df['FT_PCT_away']*100\n",
    "    yearly_away_df['Average Away 3-Pointers Percentage'] = yearly_away_df['FG3_PCT_away']*100\n",
    "    yearly_away_df.rename(columns={'AST_away':'Average Away Assists','REB_away':'Average Away Rebounds','PTS_away':'Average Away Points'},inplace=True)\n",
    "\n",
    "    yearly_final_df = yearly_home_df.merge(yearly_away_df,left_index=True,right_index=True)\n",
    "    \n",
    "    # this is for side-by-side bar chart.\n",
    "    fig = plt.figure()\n",
    "    ax = fig.add_subplot(111)\n",
    "    width=0.40\n",
    "    x1 = ax.bar(yearly_final_df.index,yearly_final_df['Average Home {}'.format(y[8:])],width,color='goldenrod')\n",
    "    x2 = ax.bar(yearly_final_df.index+width,yearly_final_df['Average Away {}'.format(y[8:])],width,color='teal')\n",
    "    ax.set_xticks(yearly_final_df.index + width / 2)\n",
    "    ax.set_xlabel('Year',fontsize=20)\n",
    "    ax.set_ylabel(y,fontsize=20)\n",
    "    # To increase font-size I gave values to the lables inside ax.set_xticklabels and ax.set_yticklabels.\n",
    "    ax.set_xticklabels(labels=yearly_final_df.index,fontsize=15)\n",
    "    ax.set_yticklabels(labels=[0,0,10,20,30,40,50,60,70,80,90,100,110,120,130],fontsize=15)\n",
    "    ax.yaxis.set_major_locator(tt.MultipleLocator(10))\n",
    "    ax.legend( (x1[0], x2[0]), ('Average Home {}'.format(y[8:]), 'Average Away {}'.format(y[8:])) )\n",
    "    ax.set_title('Average Home and Away {} Yearly Comparison for {}'.format(y[8:],x),fontsize=25)\n",
    "    \n",
    "yearly_home_away_comp_team_selector = ipy.Dropdown(\n",
    "options = np.sort(final_homeaway_finished['Home Team'].unique()),\n",
    "description = 'Team')\n",
    "\n",
    "yearly_home_away_comp_criteria_selector = ipy.Dropdown(\n",
    "options = ['Average Points','Average Assists','Average Rebounds','Average FG Percentage','Average FT Percentage','Average 3-Pointers Percentage'],\n",
    "description = 'Category')\n",
    "\n",
    "ipy.interact(yearly_home_away_comp, x = yearly_home_away_comp_team_selector, y = yearly_home_away_comp_criteria_selector)"
   ]
  },
  {
   "cell_type": "markdown",
   "metadata": {},
   "source": [
    "## Question 14 : Yearwise comparison for selected team in these 7 categories : Total Wins, Total Loses, Winning Percentage, Home Wins, Away Wins, Home Loses, Away Loses, Team Position. Plot a comparison bar chart."
   ]
  },
  {
   "cell_type": "markdown",
   "metadata": {},
   "source": [
    "#### I created 'Year' column from 'Season_ID' column. Then, I found Winning percentage for each team and team's finishing position in their corresponding conference. Then, I plotted a yearly comparison bar chart for selected team in the mentioned 7 categories."
   ]
  },
  {
   "cell_type": "code",
   "execution_count": 27,
   "metadata": {},
   "outputs": [
    {
     "data": {
      "application/vnd.jupyter.widget-view+json": {
       "model_id": "677b18973ca34503a416f6e6eb926706",
       "version_major": 2,
       "version_minor": 0
      },
      "text/plain": [
       "interactive(children=(Dropdown(description='Team', options=('Atlanta', 'Boston', 'Brooklyn', 'Charlotte', 'Chi…"
      ]
     },
     "metadata": {},
     "output_type": "display_data"
    },
    {
     "data": {
      "text/plain": [
       "<function __main__.teams_wins_loses_yearly(x, y)>"
      ]
     },
     "execution_count": 27,
     "metadata": {},
     "output_type": "execute_result"
    }
   ],
   "source": [
    "def teams_wins_loses_yearly(x,y):\n",
    "    # There were 14 teams in the Western Conference of NBA Season 2003-04, while for other seasons there were 15 teams.\n",
    "    teams_win_lose = daily_points_table.groupby('Season_ID')['Standings Date'].max().to_frame().merge(daily_points_table)\n",
    "    teams_win_lose['Year'] = teams_win_lose['Season_ID'] - 20000 + 1\n",
    "    teams_win_lose['W_PCT'] = teams_win_lose['W_PCT']*100\n",
    "    teams_win_lose.sort_values(by=['Conference','Year'],inplace=True)\n",
    "    # There were 14 teams in the Western Conference of NBA Season 2003-04, while for other seasons there were 15 teams.\n",
    "    # So, to give all the teams their finishing positions in the conference each year, I used numpy's concatenate method with multiple inputs of a and b.\n",
    "    a = np.arange(1,15,1) \n",
    "    b = np.arange(1,16,1)\n",
    "    teams_win_lose['Team Position'] = np.concatenate((b,b,b,b,b,b,b,b,b,b,b,b,b,b,b,b,b,a,b,b,b,b,b,b,b,b,b,b,b,b,b,b,b,b))\n",
    "    teams_win_lose.rename(columns={'W':'Total Wins','L':'Total Loses','W_PCT':'Winning Percentage'},inplace=True)\n",
    "    team_selected = teams_win_lose[teams_win_lose['Team Name']==x]\n",
    "    \n",
    "    ax = team_selected.plot(kind='bar',x='Year',y=y,width=0.8)\n",
    "    ax.set_xlabel('Year',fontsize=20)\n",
    "    # To increase font-size I gave values to the lables inside ax.set_xticklabels.\n",
    "    ax.set_xticklabels(labels=team_selected['Year'],fontsize=15,rotation=0)\n",
    "    ax.set_ylabel('{}'.format(y),fontsize=20)\n",
    "    ax.set_title('Yearly Comparison of {}\\'s {}'.format(x,y),fontsize=25)\n",
    "\n",
    "teams_wins_loses_yearly_team_selector = ipy.Dropdown(\n",
    "options = np.sort(daily_points_table['Team Name'].unique()),\n",
    "description = 'Team')\n",
    "\n",
    "teams_wins_loses_yearly_criteria_selector = ipy.Dropdown(\n",
    "options = ['Total Wins','Total Loses','Winning Percentage','Home Wins','Away Wins','Home Loses','Away Loses','Team Position'],\n",
    "description = 'Category')\n",
    "\n",
    "ipy.interact(teams_wins_loses_yearly, x = teams_wins_loses_yearly_team_selector, y = teams_wins_loses_yearly_criteria_selector)"
   ]
  },
  {
   "cell_type": "markdown",
   "metadata": {},
   "source": [
    "## Question 15 : Between 1947 and 2020, List out NBA MVPs whose team won the championship."
   ]
  },
  {
   "cell_type": "markdown",
   "metadata": {},
   "source": [
    "#### To find out this, I have used finals_data which have MVPs information.  Then I compared 'MVP Status' and 'Champion' columns to find out list of NBA MVPs whose team won the championship."
   ]
  },
  {
   "cell_type": "code",
   "execution_count": 28,
   "metadata": {},
   "outputs": [
    {
     "data": {
      "text/html": [
       "<div>\n",
       "<style scoped>\n",
       "    .dataframe tbody tr th:only-of-type {\n",
       "        vertical-align: middle;\n",
       "    }\n",
       "\n",
       "    .dataframe tbody tr th {\n",
       "        vertical-align: top;\n",
       "    }\n",
       "\n",
       "    .dataframe thead th {\n",
       "        text-align: right;\n",
       "    }\n",
       "</style>\n",
       "<table border=\"1\" class=\"dataframe\">\n",
       "  <thead>\n",
       "    <tr style=\"text-align: right;\">\n",
       "      <th></th>\n",
       "      <th>NBA Champion</th>\n",
       "      <th>MVP Name</th>\n",
       "      <th>MVP Team</th>\n",
       "    </tr>\n",
       "    <tr>\n",
       "      <th>Year</th>\n",
       "      <th></th>\n",
       "      <th></th>\n",
       "      <th></th>\n",
       "    </tr>\n",
       "  </thead>\n",
       "  <tbody>\n",
       "    <tr>\n",
       "      <th>1957</th>\n",
       "      <td>Boston Celtics</td>\n",
       "      <td>B. Cousy</td>\n",
       "      <td>Boston Celtics</td>\n",
       "    </tr>\n",
       "    <tr>\n",
       "      <th>1961</th>\n",
       "      <td>Boston Celtics</td>\n",
       "      <td>B. Russell</td>\n",
       "      <td>Boston Celtics</td>\n",
       "    </tr>\n",
       "    <tr>\n",
       "      <th>1962</th>\n",
       "      <td>Boston Celtics</td>\n",
       "      <td>B. Russell</td>\n",
       "      <td>Boston Celtics</td>\n",
       "    </tr>\n",
       "    <tr>\n",
       "      <th>1963</th>\n",
       "      <td>Boston Celtics</td>\n",
       "      <td>B. Russell</td>\n",
       "      <td>Boston Celtics</td>\n",
       "    </tr>\n",
       "    <tr>\n",
       "      <th>1965</th>\n",
       "      <td>Boston Celtics</td>\n",
       "      <td>B. Russell</td>\n",
       "      <td>Boston Celtics</td>\n",
       "    </tr>\n",
       "    <tr>\n",
       "      <th>1967</th>\n",
       "      <td>Philadelphia 76ers</td>\n",
       "      <td>W. Chamberlain</td>\n",
       "      <td>Philadelphia 76ers</td>\n",
       "    </tr>\n",
       "    <tr>\n",
       "      <th>1970</th>\n",
       "      <td>New York Knicks</td>\n",
       "      <td>W. Reed</td>\n",
       "      <td>New York Knicks</td>\n",
       "    </tr>\n",
       "    <tr>\n",
       "      <th>1971</th>\n",
       "      <td>Milwaukee Bucks</td>\n",
       "      <td>K. AJabbar</td>\n",
       "      <td>Milwaukee Bucks</td>\n",
       "    </tr>\n",
       "    <tr>\n",
       "      <th>1980</th>\n",
       "      <td>Los Angeles Lakers</td>\n",
       "      <td>K. AJabbar</td>\n",
       "      <td>Los Angeles Lakers</td>\n",
       "    </tr>\n",
       "    <tr>\n",
       "      <th>1983</th>\n",
       "      <td>Philadelphia 76ers</td>\n",
       "      <td>M. Malone</td>\n",
       "      <td>Philadelphia 76ers</td>\n",
       "    </tr>\n",
       "    <tr>\n",
       "      <th>1984</th>\n",
       "      <td>Boston Celtics</td>\n",
       "      <td>L. Bird</td>\n",
       "      <td>Boston Celtics</td>\n",
       "    </tr>\n",
       "    <tr>\n",
       "      <th>1986</th>\n",
       "      <td>Boston Celtics</td>\n",
       "      <td>L. Bird</td>\n",
       "      <td>Boston Celtics</td>\n",
       "    </tr>\n",
       "    <tr>\n",
       "      <th>1987</th>\n",
       "      <td>Los Angeles Lakers</td>\n",
       "      <td>M. Johnson</td>\n",
       "      <td>Los Angeles Lakers</td>\n",
       "    </tr>\n",
       "    <tr>\n",
       "      <th>1991</th>\n",
       "      <td>Chicago Bulls</td>\n",
       "      <td>M. Jordan</td>\n",
       "      <td>Chicago Bulls</td>\n",
       "    </tr>\n",
       "    <tr>\n",
       "      <th>1992</th>\n",
       "      <td>Chicago Bulls</td>\n",
       "      <td>M. Jordan</td>\n",
       "      <td>Chicago Bulls</td>\n",
       "    </tr>\n",
       "    <tr>\n",
       "      <th>1994</th>\n",
       "      <td>Houston Rockets</td>\n",
       "      <td>H. Olajuwon</td>\n",
       "      <td>Houston Rockets</td>\n",
       "    </tr>\n",
       "    <tr>\n",
       "      <th>1996</th>\n",
       "      <td>Chicago Bulls</td>\n",
       "      <td>M. Jordan</td>\n",
       "      <td>Chicago Bulls</td>\n",
       "    </tr>\n",
       "    <tr>\n",
       "      <th>1998</th>\n",
       "      <td>Chicago Bulls</td>\n",
       "      <td>M. Jordan</td>\n",
       "      <td>Chicago Bulls</td>\n",
       "    </tr>\n",
       "    <tr>\n",
       "      <th>2000</th>\n",
       "      <td>Los Angeles Lakers</td>\n",
       "      <td>S. O'Neal</td>\n",
       "      <td>Los Angeles Lakers</td>\n",
       "    </tr>\n",
       "    <tr>\n",
       "      <th>2003</th>\n",
       "      <td>San Antonio Spurs</td>\n",
       "      <td>T. Duncan</td>\n",
       "      <td>San Antonio Spurs</td>\n",
       "    </tr>\n",
       "    <tr>\n",
       "      <th>2012</th>\n",
       "      <td>Miami Heat</td>\n",
       "      <td>L. James</td>\n",
       "      <td>Miami Heat</td>\n",
       "    </tr>\n",
       "    <tr>\n",
       "      <th>2013</th>\n",
       "      <td>Miami Heat</td>\n",
       "      <td>L. James</td>\n",
       "      <td>Miami Heat</td>\n",
       "    </tr>\n",
       "    <tr>\n",
       "      <th>2015</th>\n",
       "      <td>Golden State Warriors</td>\n",
       "      <td>S. Curry</td>\n",
       "      <td>Golden State Warriors</td>\n",
       "    </tr>\n",
       "  </tbody>\n",
       "</table>\n",
       "</div>"
      ],
      "text/plain": [
       "               NBA Champion        MVP Name               MVP Team\n",
       "Year                                                              \n",
       "1957         Boston Celtics        B. Cousy         Boston Celtics\n",
       "1961         Boston Celtics      B. Russell         Boston Celtics\n",
       "1962         Boston Celtics      B. Russell         Boston Celtics\n",
       "1963         Boston Celtics      B. Russell         Boston Celtics\n",
       "1965         Boston Celtics      B. Russell         Boston Celtics\n",
       "1967     Philadelphia 76ers  W. Chamberlain     Philadelphia 76ers\n",
       "1970        New York Knicks         W. Reed        New York Knicks\n",
       "1971        Milwaukee Bucks      K. AJabbar        Milwaukee Bucks\n",
       "1980     Los Angeles Lakers      K. AJabbar     Los Angeles Lakers\n",
       "1983     Philadelphia 76ers       M. Malone     Philadelphia 76ers\n",
       "1984         Boston Celtics         L. Bird         Boston Celtics\n",
       "1986         Boston Celtics         L. Bird         Boston Celtics\n",
       "1987     Los Angeles Lakers      M. Johnson     Los Angeles Lakers\n",
       "1991          Chicago Bulls       M. Jordan          Chicago Bulls\n",
       "1992          Chicago Bulls       M. Jordan          Chicago Bulls\n",
       "1994        Houston Rockets     H. Olajuwon        Houston Rockets\n",
       "1996          Chicago Bulls       M. Jordan          Chicago Bulls\n",
       "1998          Chicago Bulls       M. Jordan          Chicago Bulls\n",
       "2000     Los Angeles Lakers       S. O'Neal     Los Angeles Lakers\n",
       "2003      San Antonio Spurs       T. Duncan      San Antonio Spurs\n",
       "2012             Miami Heat        L. James             Miami Heat\n",
       "2013             Miami Heat        L. James             Miami Heat\n",
       "2015  Golden State Warriors        S. Curry  Golden State Warriors"
      ]
     },
     "execution_count": 28,
     "metadata": {},
     "output_type": "execute_result"
    }
   ],
   "source": [
    "mvp_info = finals_data.dropna()[['Year','NBA Champion','MVP Name','MVP Team','MVP status']]\n",
    "mvp_nba_champions = (mvp_info[mvp_info['MVP status'] == 'Champion']).set_index('Year').drop(['MVP status'],axis=1)\n",
    "mvp_nba_champions"
   ]
  }
 ],
 "metadata": {
  "kernelspec": {
   "display_name": "Python 3",
   "language": "python",
   "name": "python3"
  },
  "language_info": {
   "codemirror_mode": {
    "name": "ipython",
    "version": 3
   },
   "file_extension": ".py",
   "mimetype": "text/x-python",
   "name": "python",
   "nbconvert_exporter": "python",
   "pygments_lexer": "ipython3",
   "version": "3.8.5"
  }
 },
 "nbformat": 4,
 "nbformat_minor": 4
}
